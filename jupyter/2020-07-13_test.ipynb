{
 "cells": [
  {
   "cell_type": "markdown",
   "metadata": {},
   "source": [
    "### Hello!\n",
    "\n",
    "This is a test post. Below is some places I've spent some significant time in my life :) "
   ]
  },
  {
   "cell_type": "code",
   "execution_count": 1,
   "metadata": {},
   "outputs": [],
   "source": [
    "import folium\n",
    "from folium.plugins import MarkerCluster\n",
    "import pandas as pd"
   ]
  },
  {
   "cell_type": "code",
   "execution_count": 2,
   "metadata": {},
   "outputs": [
    {
     "data": {
      "text/html": [
       "<div style=\"width:100%;\"><div style=\"position:relative;width:100%;height:0;padding-bottom:60%;\"><span style=\"color:#565656\">Make this Notebook Trusted to load map: File -> Trust Notebook</span><iframe src=\"about:blank\" style=\"position:absolute;width:100%;height:100%;left:0;top:0;border:none !important;\" data-html=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 onload=\"this.contentDocument.open();this.contentDocument.write(atob(this.getAttribute('data-html')));this.contentDocument.close();\" allowfullscreen webkitallowfullscreen mozallowfullscreen></iframe></div></div>"
      ],
      "text/plain": [
       "<folium.folium.Map at 0x7f37e8bc83c8>"
      ]
     },
     "execution_count": 2,
     "metadata": {},
     "output_type": "execute_result"
    }
   ],
   "source": [
    "#Define the coordinates we want our markers to be at\n",
    "#Define coordinates of where we want to center our map\n",
    "san_diego_coords = [32.715736, -117.161087]\n",
    "hyde_park = [41.7948, -87.5917]\n",
    "NYC_coords = [40.7282, -73.7949]\n",
    "\n",
    "#Create the map\n",
    "my_map = folium.Map(location = NYC_coords, zoom_start = 3)\n",
    "\n",
    "#Add markers to the map\n",
    "folium.Marker(san_diego_coords, popup = 'San Diego, CA').add_to(my_map)\n",
    "folium.Marker(hyde_park, popup = 'Chicago, IL').add_to(my_map)\n",
    "folium.Marker(NYC_coords, popup = 'Queens, New York').add_to(my_map)\n",
    "\n",
    "my_map"
   ]
  },
  {
   "cell_type": "code",
   "execution_count": null,
   "metadata": {},
   "outputs": [],
   "source": []
  }
 ],
 "metadata": {
  "kernelspec": {
   "display_name": "Python 3.6",
   "language": "python",
   "name": "python3"
  },
  "language_info": {
   "codemirror_mode": {
    "name": "ipython",
    "version": 3
   },
   "file_extension": ".py",
   "mimetype": "text/x-python",
   "name": "python",
   "nbconvert_exporter": "python",
   "pygments_lexer": "ipython3",
   "version": "3.6.10"
  }
 },
 "nbformat": 4,
 "nbformat_minor": 4
}
